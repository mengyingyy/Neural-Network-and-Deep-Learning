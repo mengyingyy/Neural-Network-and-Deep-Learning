{
 "cells": [
  {
   "cell_type": "markdown",
   "metadata": {},
   "source": [
    "### ANLY 590 -- Hw 1\n",
    "\n",
    "\n"
   ]
  },
  {
   "cell_type": "code",
   "execution_count": 427,
   "metadata": {},
   "outputs": [],
   "source": [
    "%matplotlib inline\n",
    "import pandas as pd\n",
    "import numpy as np\n",
    "import sklearn\n",
    "import matplotlib.pyplot as plt\n",
    "from sklearn.preprocessing import scale\n",
    "from sklearn.model_selection import train_test_split\n",
    "from sklearn.linear_model import Ridge, RidgeCV, Lasso, LassoCV\n",
    "from sklearn.metrics import mean_squared_error\n",
    "from sklearn.metrics import r2_score\n",
    "import warnings\n",
    "warnings.filterwarnings('ignore')"
   ]
  },
  {
   "cell_type": "markdown",
   "metadata": {},
   "source": [
    "#### read hitters.csv and drop na"
   ]
  },
  {
   "cell_type": "code",
   "execution_count": 428,
   "metadata": {},
   "outputs": [],
   "source": [
    "\n",
    "df = pd.read_csv('Hitters.csv',index_col=0).dropna()\n"
   ]
  },
  {
   "cell_type": "markdown",
   "metadata": {},
   "source": [
    "#### drop categorical variables"
   ]
  },
  {
   "cell_type": "code",
   "execution_count": 429,
   "metadata": {},
   "outputs": [],
   "source": [
    "y = df.Salary\n",
    "X = df.drop(['Salary',  'League', 'Division', 'NewLeague'], axis =1)"
   ]
  },
  {
   "cell_type": "markdown",
   "metadata": {},
   "source": [
    "### 1.1 Lasso Regression "
   ]
  },
  {
   "cell_type": "code",
   "execution_count": 430,
   "metadata": {},
   "outputs": [],
   "source": [
    "n_alphas = 150\n",
    "alphas = 10 ** np.linspace(20, -1, n_alphas)*0.5"
   ]
  },
  {
   "cell_type": "code",
   "execution_count": 431,
   "metadata": {},
   "outputs": [],
   "source": [
    "#compute paths\n",
    "coefs = []\n",
    "for a in alphas:\n",
    "    lasso = Lasso(alpha=a,normalize=True, fit_intercept=False)\n",
    "    lasso.fit(scale(X_train), y_train)\n",
    "    coefs.append(lasso.coef_)"
   ]
  },
  {
   "cell_type": "code",
   "execution_count": 432,
   "metadata": {},
   "outputs": [
    {
     "data": {
      "text/plain": [
       "Text(0.5,1,'Lasso visualization of the coefficient trajectories')"
      ]
     },
     "execution_count": 432,
     "metadata": {},
     "output_type": "execute_result"
    },
    {
     "data": {
      "image/png": "[encoded data removed]",
      "text/plain": [
       "<Figure size 432x288 with 1 Axes>"
      ]
     },
     "metadata": {},
     "output_type": "display_data"
    }
   ],
   "source": [
    "ax = plt.gca()\n",
    "ax.plot(alphas, coefs)\n",
    "ax.set_xscale('log')\n",
    "plt.axis('tight')\n",
    "plt.xlabel('alpha')\n",
    "plt.ylabel('weights')\n",
    "plt.title('Lasso visualization of the coefficient trajectories')"
   ]
  },
  {
   "cell_type": "code",
   "execution_count": 433,
   "metadata": {},
   "outputs": [
    {
     "name": "stdout",
     "output_type": "stream",
     "text": [
      "0.2661660968677714\n"
     ]
    },
    {
     "data": {
      "image/png": "[encoded data removed]",
      "text/plain": [
       "<Figure size 432x288 with 1 Axes>"
      ]
     },
     "metadata": {},
     "output_type": "display_data"
    }
   ],
   "source": [
    "#cross validation to split data\n",
    "X_train, X_test , y_train, y_test = train_test_split(X,y,test_size = 0.4,random_state=12345)\n",
    "lasso1 = Lasso(alpha=13.2,normalize=True,random_state=12345).fit(X_train,y_train) # Fit a lasso regression on the training data\n",
    "predlasso = lasso1.predict(X_test) # Use this model to predict the test data\n",
    "pd.Series(lasso1.coef_, index=X.columns).sort_values().plot(kind='bar') # visualize coefficients which are the final three predictors in the model\n",
    "print(r2_score(y_test, predlasso)) # print R2"
   ]
  },
  {
   "cell_type": "markdown",
   "metadata": {},
   "source": [
    "### the bar chart shows that the final three predictors are CHmRun, Runs, and CRuns"
   ]
  },
  {
   "cell_type": "code",
   "execution_count": 424,
   "metadata": {},
   "outputs": [
    {
     "name": "stdout",
     "output_type": "stream",
     "text": [
      "0.5843355315832677\n"
     ]
    },
    {
     "data": {
      "text/plain": [
       "0.04884132886321495"
      ]
     },
     "execution_count": 424,
     "metadata": {},
     "output_type": "execute_result"
    }
   ],
   "source": [
    "# use 10-fold cv to choose the optimize alpha\n",
    "lassocv = LassoCV(alphas=None,cv=10, normalize=True).fit(X_train,y_train)\n",
    "print(lassocv.score(X_train,y_train))\n",
    "lassocv.alpha_"
   ]
  },
  {
   "cell_type": "code",
   "execution_count": 406,
   "metadata": {},
   "outputs": [
    {
     "data": {
      "text/plain": [
       "AtBat     -2.051485\n",
       "Hits       5.552346\n",
       "HmRun     -1.805013\n",
       "Runs       2.948919\n",
       "RBI       -0.183409\n",
       "Walks      3.235614\n",
       "Years     -2.729259\n",
       "CAtBat    -0.395974\n",
       "CHits      1.075811\n",
       "CHmRun     2.318218\n",
       "CRuns      1.272565\n",
       "CRBI       0.000000\n",
       "CWalks    -0.358484\n",
       "PutOuts    0.318759\n",
       "Assists    0.477111\n",
       "Errors    -6.755007\n",
       "dtype: float64"
      ]
     },
     "execution_count": 406,
     "metadata": {},
     "output_type": "execute_result"
    }
   ],
   "source": [
    "lasso2 = Lasso(alpha=lassocv.alpha_, normalize=True).fit(X_train, y_train)\n",
    "pd.Series(lasso2.coef_, index=X.columns)"
   ]
  },
  {
   "cell_type": "markdown",
   "metadata": {},
   "source": [
    "### Therefore, the optimal value of the regularization penalty is 0.049 and there are 15 predictors left in the model."
   ]
  },
  {
   "cell_type": "markdown",
   "metadata": {},
   "source": [
    "### 1.2 Ridge Regression"
   ]
  },
  {
   "cell_type": "code",
   "execution_count": 407,
   "metadata": {},
   "outputs": [],
   "source": [
    "#compute paths\n",
    "coefs = []\n",
    "for a in alphas:\n",
    "    ridge = Ridge(alpha=a, fit_intercept=False)\n",
    "    ridge.fit(X, y)\n",
    "    coefs.append(ridge.coef_)"
   ]
  },
  {
   "cell_type": "code",
   "execution_count": 408,
   "metadata": {},
   "outputs": [
    {
     "data": {
      "image/png": "[encoded data removed]",
      "text/plain": [
       "<Figure size 432x288 with 1 Axes>"
      ]
     },
     "metadata": {},
     "output_type": "display_data"
    }
   ],
   "source": [
    "#display results\n",
    "ax = plt.gca()\n",
    "ax.plot(alphas, coefs)\n",
    "ax.set_xscale('log')\n",
    "plt.xlabel('alpha')\n",
    "plt.ylabel('weights')\n",
    "plt.title('Ridge visualization of the coefficient trajectories')\n",
    "plt.axis('tight')\n",
    "plt.show()"
   ]
  },
  {
   "cell_type": "code",
   "execution_count": 419,
   "metadata": {},
   "outputs": [
    {
     "name": "stdout",
     "output_type": "stream",
     "text": [
      "AtBat      0.079646\n",
      "Hits       0.393236\n",
      "HmRun      1.441726\n",
      "Runs       0.725713\n",
      "RBI        0.585061\n",
      "Walks      0.892533\n",
      "Years      2.477712\n",
      "CAtBat     0.009308\n",
      "CHits      0.038193\n",
      "CHmRun     0.321901\n",
      "CRuns      0.081141\n",
      "CRBI       0.079773\n",
      "CWalks     0.083662\n",
      "PutOuts    0.056103\n",
      "Assists   -0.028793\n",
      "Errors    -0.720557\n",
      "dtype: float64\n",
      "0.4067049960089093\n"
     ]
    }
   ],
   "source": [
    "ridge2 = Ridge(alpha=5, normalize=True).fit(X_train,y_train) # Fit a ridge regression on the training data when alpha = 5\n",
    "pred2 = ridge2.predict(X_test) # Use this model to predict the test data\n",
    "print(pd.Series(ridge2.coef_, index=X.columns)) # Print coefficients\n",
    "print(r2_score(y_test, pred2)) # print R2"
   ]
  },
  {
   "cell_type": "markdown",
   "metadata": {},
   "source": [
    "#### to find the optimize alpha"
   ]
  },
  {
   "cell_type": "code",
   "execution_count": 426,
   "metadata": {},
   "outputs": [
    {
     "name": "stdout",
     "output_type": "stream",
     "text": [
      "0.5426285917708719\n",
      "0.05\n"
     ]
    }
   ],
   "source": [
    "ridgecv = RidgeCV(alphas=alphas,cv=None, normalize=True).fit(X_train,y_train)\n",
    "print(ridgecv.score(X_train,y_train))\n",
    "print(ridgecv.alpha_)"
   ]
  },
  {
   "cell_type": "code",
   "execution_count": 423,
   "metadata": {},
   "outputs": [
    {
     "data": {
      "text/plain": [
       "AtBat     -0.854383\n",
       "Hits       3.030221\n",
       "HmRun     -2.654725\n",
       "Runs       1.295596\n",
       "RBI        1.240590\n",
       "Walks      3.472103\n",
       "Years     -9.213506\n",
       "CAtBat    -0.006362\n",
       "CHits      0.133943\n",
       "CHmRun     0.682169\n",
       "CRuns      0.339680\n",
       "CRBI       0.255515\n",
       "CWalks    -0.271336\n",
       "PutOuts    0.273998\n",
       "Assists    0.187177\n",
       "Errors    -3.483692\n",
       "dtype: float64"
      ]
     },
     "execution_count": 423,
     "metadata": {},
     "output_type": "execute_result"
    }
   ],
   "source": [
    "ridge3 = Ridge(alpha=ridgecv.alpha_, normalize=True).fit(X_train, y_train)\n",
    "ridge3.score(X_train,y_train)\n",
    "ridge3.fit(X, y)\n",
    "pd.Series(ridge3.coef_, index=X.columns)"
   ]
  },
  {
   "cell_type": "markdown",
   "metadata": {},
   "source": [
    "### the optimal value of the regularization penalty is 0.05."
   ]
  },
  {
   "cell_type": "markdown",
   "metadata": {},
   "source": [
    "### 2 Explain in your own words the bias-variance tradeoff:  the purpose of the tradoff is to minimize bias and variance. However, in the real world, it is difficult to do. If a model has low bias and high variance,  overfitting happenes. If a model is too simple, it has high bias and low variance. Therefore, we need to find a balance between bias and variance. \n",
    "### What role does regularization play in this tradeoff?Make reference to your findings in number (1) to describe models of high/low bias and variance: Regularization can reduce the complex of the model and avoid the risk of overfitting. In number(1), there are two methods: ridge and lasso regression. Lasso regression shirnks the unimportant coefficients to zero, and decrease the variability fo the models for players' salaries.Ridge regression keeps all the coeeficients and reduce the model complexity. Since none of the coefficent equals 0, so it will perform better for the prediction of players' salaries."
   ]
  },
  {
   "cell_type": "code",
   "execution_count": null,
   "metadata": {},
   "outputs": [],
   "source": []
  }
 ],
 "metadata": {
  "kernelspec": {
   "display_name": "Python 3",
   "language": "python",
   "name": "python3"
  },
  "language_info": {
   "codemirror_mode": {
    "name": "ipython",
    "version": 3
   },
   "file_extension": ".py",
   "mimetype": "text/x-python",
   "name": "python",
   "nbconvert_exporter": "python",
   "pygments_lexer": "ipython3",
   "version": "3.6.5"
  }
 },
 "nbformat": 4,
 "nbformat_minor": 2
}
