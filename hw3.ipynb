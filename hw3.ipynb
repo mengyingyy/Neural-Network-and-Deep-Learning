{
  "nbformat": 4,
  "nbformat_minor": 0,
  "metadata": {
    "colab": {
      "name": "Untitled0.ipynb",
      "provenance": [],
      "collapsed_sections": []
    },
    "kernelspec": {
      "name": "python3",
      "display_name": "Python 3"
    },
    "accelerator": "GPU"
  },
  "cells": [
    {
      "cell_type": "code",
      "metadata": {
        "id": "3iUCSd695q3N",
        "colab_type": "code",
        "colab": {}
      },
      "source": [
        "#1\n",
        "from keras.layers import Input, Dense, Conv2D, MaxPooling2D, UpSampling2D,Dropout,Flatten\n",
        "from keras.models import Model\n",
        "from keras import backend as K\n",
        "from keras.datasets import fashion_mnist\n",
        "import numpy as np"
      ],
      "execution_count": 0,
      "outputs": []
    },
    {
      "cell_type": "markdown",
      "metadata": {
        "id": "gCC0eO915yfr",
        "colab_type": "text"
      },
      "source": [
        "import tensorflow as tf\n",
        "import matplotlib.pyplot as plt"
      ]
    },
    {
      "cell_type": "code",
      "metadata": {
        "id": "2KWK9Eu251qu",
        "colab_type": "code",
        "colab": {}
      },
      "source": [
        "import tensorflow as tf\n",
        "import matplotlib.pyplot as plt"
      ],
      "execution_count": 0,
      "outputs": []
    },
    {
      "cell_type": "markdown",
      "metadata": {
        "id": "I7uvC0A455PH",
        "colab_type": "text"
      },
      "source": [
        ""
      ]
    },
    {
      "cell_type": "code",
      "metadata": {
        "id": "XJ8uGVoU5-66",
        "colab_type": "code",
        "outputId": "38271c8b-db60-4474-fb21-52819a9d9361",
        "colab": {
          "base_uri": "https://localhost:8080/",
          "height": 241
        }
      },
      "source": [
        "(x_train, y_train), (x_test, y_test) = fashion_mnist.load_data()\n",
        "\n",
        "input_img = Input(shape=(28, 28, 1))  # adapt this if using `channels_first` image data format\n",
        "\n",
        "x = Conv2D(16, (3, 3), activation='relu', padding='same')(input_img)\n",
        "x = MaxPooling2D((2, 2), padding='same')(x)\n",
        "x = Conv2D(8, (3, 3), activation='relu', padding='same')(x)\n",
        "#x = MaxPooling2D((2, 2), padding='same')(x)\n",
        "x = Conv2D(8, (3, 3), activation='relu', padding='same')(x)\n",
        "x = MaxPooling2D((2, 2), padding='same')(x)\n",
        "x = Conv2D(8, (3, 3), activation='relu', padding='same')(x)\n",
        "x = MaxPooling2D((2, 2), padding='same')(x)\n",
        "x = Conv2D(8, (3, 3), activation='relu', padding='same')(x)\n",
        "encoded = MaxPooling2D((2, 2), padding='same')(x)\n",
        "\n",
        "# at this point the representation is (4, 4, 8) i.e. 128-dimensional\n",
        "\n",
        "x = Conv2D(8, (3, 3), activation='relu', padding='same')(encoded)\n",
        "x = UpSampling2D((2, 2))(x)\n",
        "x = Conv2D(8, (3, 3), activation='relu', padding='same')(x)\n",
        "#x = UpSampling2D((2, 2))(x)\n",
        "#x = Conv2D(8, (3, 3), activation='relu', padding='same')(x)\n",
        "x = UpSampling2D((2, 2))(x)\n",
        "x = Conv2D(8, (3, 3), activation='relu', padding='same')(x)\n",
        "x = UpSampling2D((2, 2))(x)\n",
        "x = Conv2D(8, (3, 3), activation='relu', padding='same')(x)\n",
        "x = Conv2D(16, (3, 3), activation='relu')(x)\n",
        "x = UpSampling2D((2, 2))(x)\n",
        "decoded = Conv2D(1, (3, 3), activation='sigmoid', padding='same')(x)\n",
        "\n",
        "autoencoder = Model(input_img, decoded)\n",
        "autoencoder.compile(optimizer='adadelta', loss='binary_crossentropy')"
      ],
      "execution_count": 44,
      "outputs": [
        {
          "output_type": "stream",
          "text": [
            "Downloading data from http://fashion-mnist.s3-website.eu-central-1.amazonaws.com/train-labels-idx1-ubyte.gz\n",
            "32768/29515 [=================================] - 0s 0us/step\n",
            "Downloading data from http://fashion-mnist.s3-website.eu-central-1.amazonaws.com/train-images-idx3-ubyte.gz\n",
            "26427392/26421880 [==============================] - 0s 0us/step\n",
            "Downloading data from http://fashion-mnist.s3-website.eu-central-1.amazonaws.com/t10k-labels-idx1-ubyte.gz\n",
            "8192/5148 [===============================================] - 0s 0us/step\n",
            "Downloading data from http://fashion-mnist.s3-website.eu-central-1.amazonaws.com/t10k-images-idx3-ubyte.gz\n",
            "4423680/4422102 [==============================] - 0s 0us/step\n",
            "WARNING:tensorflow:From /usr/local/lib/python3.6/dist-packages/keras/backend/tensorflow_backend.py:4267: The name tf.nn.max_pool is deprecated. Please use tf.nn.max_pool2d instead.\n",
            "\n",
            "WARNING:tensorflow:From /usr/local/lib/python3.6/dist-packages/keras/backend/tensorflow_backend.py:2239: The name tf.image.resize_nearest_neighbor is deprecated. Please use tf.compat.v1.image.resize_nearest_neighbor instead.\n",
            "\n"
          ],
          "name": "stdout"
        }
      ]
    },
    {
      "cell_type": "code",
      "metadata": {
        "id": "2XHVb9k36USj",
        "colab_type": "code",
        "colab": {}
      },
      "source": [
        "#normalize\n",
        "x_train = x_train.astype('float32') / 255.\n",
        "x_test = x_test.astype('float32') / 255.\n",
        "x_train = np.reshape(x_train, (len(x_train), 28, 28, 1))  # adapt this if using `channels_first` image data format\n",
        "x_test = np.reshape(x_test, (len(x_test), 28, 28, 1))"
      ],
      "execution_count": 0,
      "outputs": []
    },
    {
      "cell_type": "code",
      "metadata": {
        "id": "CZEwr05b6Xg-",
        "colab_type": "code",
        "outputId": "ce4b2906-3f30-4e89-8ebe-6f80e7d707fe",
        "colab": {
          "base_uri": "https://localhost:8080/",
          "height": 561
        }
      },
      "source": [
        "autoencoder.fit(x_train, x_train,\n",
        "                epochs=15,\n",
        "                batch_size=128,\n",
        "                shuffle=True,\n",
        "                validation_data=(x_test, x_test))"
      ],
      "execution_count": 46,
      "outputs": [
        {
          "output_type": "stream",
          "text": [
            "Train on 60000 samples, validate on 10000 samples\n",
            "Epoch 1/15\n",
            "60000/60000 [==============================] - 6s 108us/step - loss: 0.4023 - val_loss: 0.3540\n",
            "Epoch 2/15\n",
            "60000/60000 [==============================] - 5s 87us/step - loss: 0.3448 - val_loss: 0.3378\n",
            "Epoch 3/15\n",
            "60000/60000 [==============================] - 5s 88us/step - loss: 0.3327 - val_loss: 0.3298\n",
            "Epoch 4/15\n",
            "60000/60000 [==============================] - 5s 88us/step - loss: 0.3269 - val_loss: 0.3261\n",
            "Epoch 5/15\n",
            "60000/60000 [==============================] - 5s 87us/step - loss: 0.3230 - val_loss: 0.3273\n",
            "Epoch 6/15\n",
            "60000/60000 [==============================] - 5s 87us/step - loss: 0.3198 - val_loss: 0.3142\n",
            "Epoch 7/15\n",
            "60000/60000 [==============================] - 5s 87us/step - loss: 0.3179 - val_loss: 0.3169\n",
            "Epoch 8/15\n",
            "60000/60000 [==============================] - 5s 89us/step - loss: 0.3161 - val_loss: 0.3201\n",
            "Epoch 9/15\n",
            "60000/60000 [==============================] - 5s 86us/step - loss: 0.3147 - val_loss: 0.3183\n",
            "Epoch 10/15\n",
            "60000/60000 [==============================] - 5s 87us/step - loss: 0.3127 - val_loss: 0.3121\n",
            "Epoch 11/15\n",
            "60000/60000 [==============================] - 5s 89us/step - loss: 0.3117 - val_loss: 0.3104\n",
            "Epoch 12/15\n",
            "60000/60000 [==============================] - 5s 88us/step - loss: 0.3111 - val_loss: 0.3091\n",
            "Epoch 13/15\n",
            "60000/60000 [==============================] - 5s 88us/step - loss: 0.3104 - val_loss: 0.3111\n",
            "Epoch 14/15\n",
            "60000/60000 [==============================] - 5s 88us/step - loss: 0.3099 - val_loss: 0.3095\n",
            "Epoch 15/15\n",
            "60000/60000 [==============================] - 5s 88us/step - loss: 0.3093 - val_loss: 0.3088\n"
          ],
          "name": "stdout"
        },
        {
          "output_type": "execute_result",
          "data": {
            "text/plain": [
              "<keras.callbacks.History at 0x7f82c4fcd128>"
            ]
          },
          "metadata": {
            "tags": []
          },
          "execution_count": 46
        }
      ]
    },
    {
      "cell_type": "code",
      "metadata": {
        "id": "YoccPxs26a08",
        "colab_type": "code",
        "outputId": "b2a0ef01-19f4-494c-f6f7-77e191161df9",
        "colab": {
          "base_uri": "https://localhost:8080/",
          "height": 248
        }
      },
      "source": [
        "decoded_imgs = autoencoder.predict(x_test)\n",
        "n = 10\n",
        "plt.figure(figsize=(20, 4))\n",
        "for i in range(n):\n",
        "    # display original\n",
        "    ax = plt.subplot(2, n, i+1)\n",
        "    plt.imshow(x_test[i].reshape(28, 28))\n",
        "    plt.gray()\n",
        "    ax.get_xaxis().set_visible(False)\n",
        "    ax.get_yaxis().set_visible(False)\n",
        "\n",
        "    # display reconstruction\n",
        "    ax = plt.subplot(2, n, i + 1 + n)\n",
        "    plt.imshow(decoded_imgs[i].reshape(28, 28))\n",
        "    plt.gray()\n",
        "    ax.get_xaxis().set_visible(False)\n",
        "    ax.get_yaxis().set_visible(False)\n",
        "plt.show()"
      ],
      "execution_count": 47,
      "outputs": [
        {
          "output_type": "display_data",
          "data": {
            "image/png": "[encoded data removed]",
            "text/plain": [
              "<Figure size 1440x288 with 20 Axes>"
            ]
          },
          "metadata": {
            "tags": []
          }
        }
      ]
    },
    {
      "cell_type": "markdown",
      "metadata": {
        "id": "xk4zJBcfTH6x",
        "colab_type": "text"
      },
      "source": [
        "2.\n",
        "Kernal size is 3 by 3, strides is 1 by 1, no padding, this is CNN with 2 convolutional layers. "
      ]
    },
    {
      "cell_type": "code",
      "metadata": {
        "id": "2pEMT6kW6fSt",
        "colab_type": "code",
        "colab": {}
      },
      "source": [
        "#2 \n",
        "#2.1\n",
        "from keras.utils import np_utils\n",
        "(x_train, y_train), (x_test, y_test) = fashion_mnist.load_data()\n",
        "x_train = x_train.reshape(x_train.shape[0], 28, 28,1)\n",
        "x_test = x_test.reshape(x_test.shape[0], 28, 28,1)\n",
        "\n",
        "# normalize\n",
        "x_train = x_train.astype('float32')\n",
        "x_test = x_test.astype('float32')\n",
        "x_train /= 255\n",
        "x_test /= 255\n",
        "#10 dimensational class\n",
        "y_train = np_utils.to_categorical(y_train, 10) \n",
        "y_test = np_utils.to_categorical(y_test, 10)"
      ],
      "execution_count": 0,
      "outputs": []
    },
    {
      "cell_type": "code",
      "metadata": {
        "id": "BSsy1Lbk-Pb8",
        "colab_type": "code",
        "outputId": "aafa9299-6d45-44f3-eb9b-0770d23a008a",
        "colab": {
          "base_uri": "https://localhost:8080/",
          "height": 391
        }
      },
      "source": [
        "from keras.models import Sequential\n",
        "\n",
        "model = Sequential()\n",
        "model.add(Conv2D(filters = 32,kernel_size=(3, 3), \n",
        "                 activation='relu', strides=(1, 1), \n",
        "                 padding='valid',\n",
        "                 input_shape=(28,28,1)))\n",
        "model.add(Conv2D(filters = 32,kernel_size=(3, 3), \n",
        "                 activation='relu', strides=(1, 1), \n",
        "                 padding='valid'))\n",
        "model.add(MaxPooling2D(pool_size=(2,2)))\n",
        "\n",
        "model.add(Dropout(0.25))\n",
        "model.add(Flatten())\n",
        "model.add(Dense(256))\n",
        "model.add(Dense(10, activation='softmax'))\n",
        "model.summary()"
      ],
      "execution_count": 59,
      "outputs": [
        {
          "output_type": "stream",
          "text": [
            "Model: \"sequential_17\"\n",
            "_________________________________________________________________\n",
            "Layer (type)                 Output Shape              Param #   \n",
            "=================================================================\n",
            "conv2d_23 (Conv2D)           (None, 26, 26, 32)        320       \n",
            "_________________________________________________________________\n",
            "conv2d_24 (Conv2D)           (None, 24, 24, 32)        9248      \n",
            "_________________________________________________________________\n",
            "max_pooling2d_10 (MaxPooling (None, 12, 12, 32)        0         \n",
            "_________________________________________________________________\n",
            "dropout_7 (Dropout)          (None, 12, 12, 32)        0         \n",
            "_________________________________________________________________\n",
            "flatten_8 (Flatten)          (None, 4608)              0         \n",
            "_________________________________________________________________\n",
            "dense_15 (Dense)             (None, 256)               1179904   \n",
            "_________________________________________________________________\n",
            "dense_16 (Dense)             (None, 10)                2570      \n",
            "=================================================================\n",
            "Total params: 1,192,042\n",
            "Trainable params: 1,192,042\n",
            "Non-trainable params: 0\n",
            "_________________________________________________________________\n"
          ],
          "name": "stdout"
        }
      ]
    },
    {
      "cell_type": "code",
      "metadata": {
        "id": "dX4Ux6Rh-U-l",
        "colab_type": "code",
        "outputId": "8c365eb9-0f41-46f3-9533-7f072f5c3f2d",
        "colab": {
          "base_uri": "https://localhost:8080/",
          "height": 374
        }
      },
      "source": [
        "model.compile(loss='categorical_crossentropy',\n",
        "              optimizer='adam',\n",
        "              metrics=['accuracy'])\n",
        "model_trainin = model.fit(x_train, y_train, validation_data=(x_test, y_test),\n",
        "          epochs=10,\n",
        "          batch_size=128)"
      ],
      "execution_count": 60,
      "outputs": [
        {
          "output_type": "stream",
          "text": [
            "Train on 60000 samples, validate on 10000 samples\n",
            "Epoch 1/10\n",
            "60000/60000 [==============================] - 5s 77us/step - loss: 0.4251 - acc: 0.8480 - val_loss: 0.3559 - val_acc: 0.8741\n",
            "Epoch 2/10\n",
            "60000/60000 [==============================] - 4s 60us/step - loss: 0.2906 - acc: 0.8947 - val_loss: 0.2956 - val_acc: 0.8894\n",
            "Epoch 3/10\n",
            "60000/60000 [==============================] - 4s 61us/step - loss: 0.2520 - acc: 0.9088 - val_loss: 0.2574 - val_acc: 0.9048\n",
            "Epoch 4/10\n",
            "60000/60000 [==============================] - 4s 59us/step - loss: 0.2311 - acc: 0.9165 - val_loss: 0.2622 - val_acc: 0.9050\n",
            "Epoch 5/10\n",
            "60000/60000 [==============================] - 4s 60us/step - loss: 0.2140 - acc: 0.9208 - val_loss: 0.2424 - val_acc: 0.9133\n",
            "Epoch 6/10\n",
            "60000/60000 [==============================] - 4s 60us/step - loss: 0.2056 - acc: 0.9245 - val_loss: 0.2594 - val_acc: 0.9067\n",
            "Epoch 7/10\n",
            "60000/60000 [==============================] - 4s 60us/step - loss: 0.1917 - acc: 0.9289 - val_loss: 0.2530 - val_acc: 0.9107\n",
            "Epoch 8/10\n",
            "60000/60000 [==============================] - 4s 59us/step - loss: 0.1861 - acc: 0.9313 - val_loss: 0.2516 - val_acc: 0.9110\n",
            "Epoch 9/10\n",
            "60000/60000 [==============================] - 4s 60us/step - loss: 0.1755 - acc: 0.9356 - val_loss: 0.2419 - val_acc: 0.9139\n",
            "Epoch 10/10\n",
            "60000/60000 [==============================] - 4s 60us/step - loss: 0.1677 - acc: 0.9388 - val_loss: 0.2667 - val_acc: 0.9075\n"
          ],
          "name": "stdout"
        }
      ]
    },
    {
      "cell_type": "code",
      "metadata": {
        "id": "wT1AB_uc-ari",
        "colab_type": "code",
        "outputId": "2fd5034a-0ff3-4cb7-d191-d1470a06d13e",
        "colab": {
          "base_uri": "https://localhost:8080/",
          "height": 51
        }
      },
      "source": [
        "score = model.evaluate(x_test, y_test, verbose=1)\n",
        "score\n"
      ],
      "execution_count": 61,
      "outputs": [
        {
          "output_type": "stream",
          "text": [
            "10000/10000 [==============================] - 1s 69us/step\n"
          ],
          "name": "stdout"
        },
        {
          "output_type": "execute_result",
          "data": {
            "text/plain": [
              "[0.2667414271891117, 0.9075]"
            ]
          },
          "metadata": {
            "tags": []
          },
          "execution_count": 61
        }
      ]
    },
    {
      "cell_type": "code",
      "metadata": {
        "id": "-sWhX57J-dch",
        "colab_type": "code",
        "outputId": "40ff1433-e022-4db8-d4ea-0eec1ee0f142",
        "colab": {
          "base_uri": "https://localhost:8080/",
          "height": 51
        }
      },
      "source": [
        "score_train = model.evaluate(x_train, y_train, verbose=1)\n",
        "score_train"
      ],
      "execution_count": 62,
      "outputs": [
        {
          "output_type": "stream",
          "text": [
            "60000/60000 [==============================] - 4s 66us/step\n"
          ],
          "name": "stdout"
        },
        {
          "output_type": "execute_result",
          "data": {
            "text/plain": [
              "[0.1419377581698199, 0.9478]"
            ]
          },
          "metadata": {
            "tags": []
          },
          "execution_count": 62
        }
      ]
    },
    {
      "cell_type": "code",
      "metadata": {
        "id": "hoQZZhzz-fU4",
        "colab_type": "code",
        "colab": {}
      },
      "source": [
        "#2.2"
      ],
      "execution_count": 0,
      "outputs": []
    },
    {
      "cell_type": "code",
      "metadata": {
        "id": "upGgL8IS-hnM",
        "colab_type": "code",
        "colab": {}
      },
      "source": [
        "from keras.applications import VGG16\n",
        "from keras.preprocessing.image import ImageDataGenerator, array_to_img, img_to_array, load_img\n",
        "from keras.models import Sequential\n",
        "from keras.layers import Dense, Flatten, LeakyReLU\n",
        "from keras.optimizers import RMSprop\n",
        "from keras import callbacks"
      ],
      "execution_count": 0,
      "outputs": []
    },
    {
      "cell_type": "code",
      "metadata": {
        "id": "Z-H2IclU-j-_",
        "colab_type": "code",
        "colab": {}
      },
      "source": [
        "(train_x, train_y), (test_x, test_y) = fashion_mnist.load_data()\n",
        "#print(train_x.shape)"
      ],
      "execution_count": 0,
      "outputs": []
    },
    {
      "cell_type": "code",
      "metadata": {
        "id": "4-fTxLrp-nsU",
        "colab_type": "code",
        "outputId": "a8ec06de-8987-45cd-f98f-4d792b05e8ba",
        "colab": {
          "base_uri": "https://localhost:8080/",
          "height": 51
        }
      },
      "source": [
        "# normalize data\n",
        "train_x = train_x.astype('float32') / 255.\n",
        "test_x = test_x.astype('float32') / 255.\n",
        "\n",
        "train_x = train_x.reshape(train_x.shape[0], 28, 28,1)\n",
        "test_x = test_x.reshape(test_x.shape[0], 28, 28,1)\n",
        "print(train_x.shape)\n",
        "print(test_x.shape)\n",
        "\n",
        "# normalize\n",
        "train_x = train_x.astype('float32')\n",
        "test_x = test_x.astype('float32')\n",
        "#10 dimensational class\n",
        "train_y = np_utils.to_categorical(train_y, 10) \n",
        "test_y = np_utils.to_categorical(test_y, 10)\n"
      ],
      "execution_count": 74,
      "outputs": [
        {
          "output_type": "stream",
          "text": [
            "(60000, 28, 28, 1)\n",
            "(10000, 28, 28, 1)\n"
          ],
          "name": "stdout"
        }
      ]
    },
    {
      "cell_type": "code",
      "metadata": {
        "id": "JYVIyO5x-phk",
        "colab_type": "code",
        "colab": {}
      },
      "source": [
        "import cv2"
      ],
      "execution_count": 0,
      "outputs": []
    },
    {
      "cell_type": "code",
      "metadata": {
        "id": "6EfRCo8Q-sRc",
        "colab_type": "code",
        "outputId": "eca7ee60-46e5-4c88-8dfd-75031e905045",
        "colab": {
          "base_uri": "https://localhost:8080/",
          "height": 51
        }
      },
      "source": [
        "\n",
        "train_x1 = np.asarray([cv2.resize(x, (48,48)) for x in train_x])\n",
        "test_x1 = np.asarray([cv2.resize(x, (48,48)) for x in test_x])\n",
        "train_x1 = train_x1.reshape(train_x.shape[0], 48, 48,1)\n",
        "test_x1  = test_x1.reshape(test_x.shape[0], 48, 48, 1)\n",
        "train_x1 = train_x1.repeat(3, axis=-1)\n",
        "test_x1  = test_x1.repeat(3, axis=-1)\n",
        "print(train_x1.shape)\n",
        "print(test_x1.shape)"
      ],
      "execution_count": 76,
      "outputs": [
        {
          "output_type": "stream",
          "text": [
            "(60000, 48, 48, 3)\n",
            "(10000, 48, 48, 3)\n"
          ],
          "name": "stdout"
        }
      ]
    },
    {
      "cell_type": "code",
      "metadata": {
        "id": "bjcSfJE7-ufl",
        "colab_type": "code",
        "colab": {}
      },
      "source": [
        "conv_base = VGG16(weights=\"imagenet\",include_top=False,input_shape=(48,48,3))\n",
        "conv_base.trainable = False"
      ],
      "execution_count": 0,
      "outputs": []
    },
    {
      "cell_type": "code",
      "metadata": {
        "id": "rj54RwMp-zsQ",
        "colab_type": "code",
        "outputId": "5dd90ec0-7351-40c9-eb2b-6da25ddcd5a9",
        "colab": {
          "base_uri": "https://localhost:8080/",
          "height": 289
        }
      },
      "source": [
        "# fit the model\n",
        "model = Sequential()\n",
        "model.add(conv_base)\n",
        "model.add(Flatten())\n",
        "model.add(Dense(256, activation = \"relu\"))\n",
        "model.add(Dense(10, activation=\"softmax\"))\n",
        "model.summary()\n"
      ],
      "execution_count": 78,
      "outputs": [
        {
          "output_type": "stream",
          "text": [
            "Model: \"sequential_19\"\n",
            "_________________________________________________________________\n",
            "Layer (type)                 Output Shape              Param #   \n",
            "=================================================================\n",
            "vgg16 (Model)                (None, 1, 1, 512)         14714688  \n",
            "_________________________________________________________________\n",
            "flatten_10 (Flatten)         (None, 512)               0         \n",
            "_________________________________________________________________\n",
            "dense_19 (Dense)             (None, 256)               131328    \n",
            "_________________________________________________________________\n",
            "dense_20 (Dense)             (None, 10)                2570      \n",
            "=================================================================\n",
            "Total params: 14,848,586\n",
            "Trainable params: 133,898\n",
            "Non-trainable params: 14,714,688\n",
            "_________________________________________________________________\n"
          ],
          "name": "stdout"
        }
      ]
    },
    {
      "cell_type": "code",
      "metadata": {
        "id": "bwW7NKWA-1bg",
        "colab_type": "code",
        "outputId": "b50e6a1a-2e17-4c56-bf3f-6394e1a1c677",
        "colab": {
          "base_uri": "https://localhost:8080/",
          "height": 374
        }
      },
      "source": [
        "# compile\n",
        "model.compile(loss=\"categorical_crossentropy\", \n",
        "              optimizer='adam',\n",
        "              metrics=[\"acc\"])\n",
        "# fit\n",
        "model_train1 = model.fit(train_x1, train_y,\n",
        "          epochs=10,\n",
        "          shuffle=True,\n",
        "          batch_size=128,\n",
        "          validation_data=(test_x1,test_y))\n"
      ],
      "execution_count": 79,
      "outputs": [
        {
          "output_type": "stream",
          "text": [
            "Train on 60000 samples, validate on 10000 samples\n",
            "Epoch 1/10\n",
            "60000/60000 [==============================] - 14s 233us/step - loss: 0.5433 - acc: 0.8115 - val_loss: 0.4392 - val_acc: 0.8419\n",
            "Epoch 2/10\n",
            "60000/60000 [==============================] - 13s 209us/step - loss: 0.3893 - acc: 0.8589 - val_loss: 0.3995 - val_acc: 0.8587\n",
            "Epoch 3/10\n",
            "60000/60000 [==============================] - 13s 209us/step - loss: 0.3564 - acc: 0.8709 - val_loss: 0.3763 - val_acc: 0.8652\n",
            "Epoch 4/10\n",
            "60000/60000 [==============================] - 13s 209us/step - loss: 0.3356 - acc: 0.8773 - val_loss: 0.3721 - val_acc: 0.8676\n",
            "Epoch 5/10\n",
            "60000/60000 [==============================] - 13s 214us/step - loss: 0.3218 - acc: 0.8818 - val_loss: 0.3560 - val_acc: 0.8732\n",
            "Epoch 6/10\n",
            "60000/60000 [==============================] - 13s 211us/step - loss: 0.3065 - acc: 0.8873 - val_loss: 0.3527 - val_acc: 0.8772\n",
            "Epoch 7/10\n",
            "60000/60000 [==============================] - 13s 210us/step - loss: 0.2939 - acc: 0.8928 - val_loss: 0.3466 - val_acc: 0.8760\n",
            "Epoch 8/10\n",
            "60000/60000 [==============================] - 13s 211us/step - loss: 0.2823 - acc: 0.8969 - val_loss: 0.3442 - val_acc: 0.8770\n",
            "Epoch 9/10\n",
            "60000/60000 [==============================] - 13s 209us/step - loss: 0.2736 - acc: 0.8989 - val_loss: 0.3451 - val_acc: 0.8784\n",
            "Epoch 10/10\n",
            "60000/60000 [==============================] - 13s 208us/step - loss: 0.2627 - acc: 0.9033 - val_loss: 0.3380 - val_acc: 0.8811\n"
          ],
          "name": "stdout"
        }
      ]
    },
    {
      "cell_type": "code",
      "metadata": {
        "id": "4CP7Ws1NE69b",
        "colab_type": "code",
        "outputId": "9780aaf9-3bff-4022-c4d0-41b3ead235bb",
        "colab": {
          "base_uri": "https://localhost:8080/",
          "height": 51
        }
      },
      "source": [
        "score = model.evaluate(test_x1, y_test, verbose=1)\n",
        "score"
      ],
      "execution_count": 80,
      "outputs": [
        {
          "output_type": "stream",
          "text": [
            "10000/10000 [==============================] - 3s 297us/step\n"
          ],
          "name": "stdout"
        },
        {
          "output_type": "execute_result",
          "data": {
            "text/plain": [
              "[0.3379911565065384, 0.8811]"
            ]
          },
          "metadata": {
            "tags": []
          },
          "execution_count": 80
        }
      ]
    },
    {
      "cell_type": "code",
      "metadata": {
        "id": "XsQEkpDBFavF",
        "colab_type": "code",
        "outputId": "9caab8b8-72b6-41da-dfcb-e2117d69dc1a",
        "colab": {
          "base_uri": "https://localhost:8080/",
          "height": 51
        }
      },
      "source": [
        "score_train = model.evaluate(train_x1, y_train, verbose=1)\n",
        "score_train"
      ],
      "execution_count": 81,
      "outputs": [
        {
          "output_type": "stream",
          "text": [
            "60000/60000 [==============================] - 17s 287us/step\n"
          ],
          "name": "stdout"
        },
        {
          "output_type": "execute_result",
          "data": {
            "text/plain": [
              "[0.24420803466935953, 0.91195]"
            ]
          },
          "metadata": {
            "tags": []
          },
          "execution_count": 81
        }
      ]
    },
    {
      "cell_type": "code",
      "metadata": {
        "id": "fXj7FrVVHD1B",
        "colab_type": "code",
        "colab": {}
      },
      "source": [
        "#3.1"
      ],
      "execution_count": 0,
      "outputs": []
    },
    {
      "cell_type": "code",
      "metadata": {
        "id": "dtlIcebsHJOs",
        "colab_type": "code",
        "colab": {}
      },
      "source": [
        "#use RNN\n",
        "import pandas as pd\n",
        "from sklearn.model_selection import train_test_split\n",
        "from keras.preprocessing import sequence\n",
        "from keras.layers import SimpleRNN, Embedding\n"
      ],
      "execution_count": 0,
      "outputs": []
    },
    {
      "cell_type": "code",
      "metadata": {
        "id": "s6aqrhclHP67",
        "colab_type": "code",
        "outputId": "a11570b9-6cdf-4208-b891-61fb494ab4d8",
        "colab": {
          "resources": {
            "http://localhost:8080/nbextensions/google.colab/files.js": {
              "data": "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",
              "ok": true,
              "headers": [
                [
                  "content-type",
                  "application/javascript"
                ]
              ],
              "status": 200,
              "status_text": ""
            }
          },
          "base_uri": "https://localhost:8080/",
          "height": 71
        }
      },
      "source": [
        "from google.colab import files\n",
        "uploadedfile = files.upload()\n"
      ],
      "execution_count": 90,
      "outputs": [
        {
          "output_type": "display_data",
          "data": {
            "text/html": [
              "\n",
              "     <input type=\"file\" id=\"files-c2ee33db-4281-4990-ae1a-7f368bd92f66\" name=\"files[]\" multiple disabled />\n",
              "     <output id=\"result-c2ee33db-4281-4990-ae1a-7f368bd92f66\">\n",
              "      Upload widget is only available when the cell has been executed in the\n",
              "      current browser session. Please rerun this cell to enable.\n",
              "      </output>\n",
              "      <script src=\"/nbextensions/google.colab/files.js\"></script> "
            ],
            "text/plain": [
              "<IPython.core.display.HTML object>"
            ]
          },
          "metadata": {
            "tags": []
          }
        },
        {
          "output_type": "stream",
          "text": [
            "Saving tweets_with_labels.csv to tweets_with_labels (1).csv\n"
          ],
          "name": "stdout"
        }
      ]
    },
    {
      "cell_type": "code",
      "metadata": {
        "id": "Te9j8GKNNteK",
        "colab_type": "code",
        "outputId": "e9908199-7b77-4393-bd95-d2c267485c83",
        "colab": {
          "base_uri": "https://localhost:8080/",
          "height": 204
        }
      },
      "source": [
        "import io\n",
        "df = io.BytesIO(uploadedfile['tweets_with_labels.csv']) \n",
        "df = pd.read_csv(df,delimiter='\\t')\n",
        "df.head()"
      ],
      "execution_count": 91,
      "outputs": [
        {
          "output_type": "execute_result",
          "data": {
            "text/html": [
              "<div>\n",
              "<style scoped>\n",
              "    .dataframe tbody tr th:only-of-type {\n",
              "        vertical-align: middle;\n",
              "    }\n",
              "\n",
              "    .dataframe tbody tr th {\n",
              "        vertical-align: top;\n",
              "    }\n",
              "\n",
              "    .dataframe thead th {\n",
              "        text-align: right;\n",
              "    }\n",
              "</style>\n",
              "<table border=\"1\" class=\"dataframe\">\n",
              "  <thead>\n",
              "    <tr style=\"text-align: right;\">\n",
              "      <th></th>\n",
              "      <th>id</th>\n",
              "      <th>tweet</th>\n",
              "      <th>k1</th>\n",
              "      <th>k2</th>\n",
              "      <th>k3</th>\n",
              "      <th>k4</th>\n",
              "      <th>k5</th>\n",
              "      <th>k6</th>\n",
              "      <th>k7</th>\n",
              "      <th>k8</th>\n",
              "      <th>k9</th>\n",
              "      <th>k10</th>\n",
              "      <th>k11</th>\n",
              "      <th>k12</th>\n",
              "      <th>k13</th>\n",
              "      <th>k14</th>\n",
              "      <th>k15</th>\n",
              "    </tr>\n",
              "  </thead>\n",
              "  <tbody>\n",
              "    <tr>\n",
              "      <th>0</th>\n",
              "      <td>1</td>\n",
              "      <td>Jazz for a Rainy Afternoon:  {link}</td>\n",
              "      <td>0.0</td>\n",
              "      <td>0.0</td>\n",
              "      <td>0.0</td>\n",
              "      <td>0.0</td>\n",
              "      <td>0.0</td>\n",
              "      <td>0.0</td>\n",
              "      <td>0.000</td>\n",
              "      <td>0.0</td>\n",
              "      <td>0.000</td>\n",
              "      <td>1.0</td>\n",
              "      <td>0.0</td>\n",
              "      <td>0.0</td>\n",
              "      <td>0.000</td>\n",
              "      <td>0.0</td>\n",
              "      <td>0.0</td>\n",
              "    </tr>\n",
              "    <tr>\n",
              "      <th>1</th>\n",
              "      <td>2</td>\n",
              "      <td>RT: @mention: I love rainy days.</td>\n",
              "      <td>0.0</td>\n",
              "      <td>0.0</td>\n",
              "      <td>0.0</td>\n",
              "      <td>0.0</td>\n",
              "      <td>0.0</td>\n",
              "      <td>0.0</td>\n",
              "      <td>0.000</td>\n",
              "      <td>0.0</td>\n",
              "      <td>0.000</td>\n",
              "      <td>1.0</td>\n",
              "      <td>0.0</td>\n",
              "      <td>0.0</td>\n",
              "      <td>0.000</td>\n",
              "      <td>0.0</td>\n",
              "      <td>0.0</td>\n",
              "    </tr>\n",
              "    <tr>\n",
              "      <th>2</th>\n",
              "      <td>3</td>\n",
              "      <td>Good Morning Chicago! Time to kick the Windy C...</td>\n",
              "      <td>0.0</td>\n",
              "      <td>0.0</td>\n",
              "      <td>0.0</td>\n",
              "      <td>0.0</td>\n",
              "      <td>0.0</td>\n",
              "      <td>0.0</td>\n",
              "      <td>1.000</td>\n",
              "      <td>0.0</td>\n",
              "      <td>0.000</td>\n",
              "      <td>0.0</td>\n",
              "      <td>0.0</td>\n",
              "      <td>0.0</td>\n",
              "      <td>0.000</td>\n",
              "      <td>0.0</td>\n",
              "      <td>0.0</td>\n",
              "    </tr>\n",
              "    <tr>\n",
              "      <th>3</th>\n",
              "      <td>6</td>\n",
              "      <td>Preach lol! :) RT @mention: #alliwantis this t...</td>\n",
              "      <td>0.0</td>\n",
              "      <td>0.0</td>\n",
              "      <td>0.0</td>\n",
              "      <td>0.0</td>\n",
              "      <td>0.0</td>\n",
              "      <td>0.0</td>\n",
              "      <td>0.604</td>\n",
              "      <td>0.0</td>\n",
              "      <td>0.196</td>\n",
              "      <td>0.0</td>\n",
              "      <td>0.0</td>\n",
              "      <td>0.0</td>\n",
              "      <td>0.201</td>\n",
              "      <td>0.0</td>\n",
              "      <td>0.0</td>\n",
              "    </tr>\n",
              "    <tr>\n",
              "      <th>4</th>\n",
              "      <td>9</td>\n",
              "      <td>@mention good morning sunshine</td>\n",
              "      <td>0.0</td>\n",
              "      <td>0.0</td>\n",
              "      <td>0.0</td>\n",
              "      <td>0.0</td>\n",
              "      <td>0.0</td>\n",
              "      <td>0.0</td>\n",
              "      <td>0.000</td>\n",
              "      <td>0.0</td>\n",
              "      <td>0.000</td>\n",
              "      <td>0.0</td>\n",
              "      <td>0.0</td>\n",
              "      <td>0.0</td>\n",
              "      <td>1.000</td>\n",
              "      <td>0.0</td>\n",
              "      <td>0.0</td>\n",
              "    </tr>\n",
              "  </tbody>\n",
              "</table>\n",
              "</div>"
            ],
            "text/plain": [
              "   id                                              tweet   k1  ...    k13  k14  k15\n",
              "0   1                Jazz for a Rainy Afternoon:  {link}  0.0  ...  0.000  0.0  0.0\n",
              "1   2                   RT: @mention: I love rainy days.  0.0  ...  0.000  0.0  0.0\n",
              "2   3  Good Morning Chicago! Time to kick the Windy C...  0.0  ...  0.000  0.0  0.0\n",
              "3   6  Preach lol! :) RT @mention: #alliwantis this t...  0.0  ...  0.201  0.0  0.0\n",
              "4   9                     @mention good morning sunshine  0.0  ...  1.000  0.0  0.0\n",
              "\n",
              "[5 rows x 17 columns]"
            ]
          },
          "metadata": {
            "tags": []
          },
          "execution_count": 91
        }
      ]
    },
    {
      "cell_type": "code",
      "metadata": {
        "id": "pCLiEqeCHSmC",
        "colab_type": "code",
        "colab": {}
      },
      "source": [
        "from gensim.corpora import Dictionary"
      ],
      "execution_count": 0,
      "outputs": []
    },
    {
      "cell_type": "code",
      "metadata": {
        "id": "teGbmHzKHUpz",
        "colab_type": "code",
        "colab": {}
      },
      "source": [
        "tweet1 = list(df['tweet'].map(lambda x: list(x)))\n",
        "\n",
        "# use gensim\n",
        "dct = Dictionary(tweet1)  # Dictionary\n",
        "X=list(df['tweet'].map(lambda x:dct.doc2idx(list(x))))\n",
        "y = df.loc[:,'k1':'k15']"
      ],
      "execution_count": 0,
      "outputs": []
    },
    {
      "cell_type": "code",
      "metadata": {
        "id": "llvBUGaMHZcV",
        "colab_type": "code",
        "colab": {}
      },
      "source": [
        "#split into training and test data \n",
        "X_train,X_test,y_train,y_test = train_test_split(X,y,test_size=0.3,random_state=1)"
      ],
      "execution_count": 0,
      "outputs": []
    },
    {
      "cell_type": "code",
      "metadata": {
        "id": "wFax4sbvHaPk",
        "colab_type": "code",
        "colab": {}
      },
      "source": [
        "X_train=sequence.pad_sequences(X_train,maxlen=30,padding=\"post\", truncating=\"post\")\n",
        "X_test=sequence.pad_sequences(X_test,maxlen=30,padding=\"post\", truncating=\"post\")"
      ],
      "execution_count": 0,
      "outputs": []
    },
    {
      "cell_type": "code",
      "metadata": {
        "id": "gGisQgsTHcWu",
        "colab_type": "code",
        "outputId": "af443d18-fff4-4d5d-eacc-c9ef6ab70712",
        "colab": {
          "base_uri": "https://localhost:8080/",
          "height": 51
        }
      },
      "source": [
        "X_train[0]"
      ],
      "execution_count": 96,
      "outputs": [
        {
          "output_type": "execute_result",
          "data": {
            "text/plain": [
              "array([31,  6,  5, 14, 35,  6, 13,  0, 68, 10, 12, 34,  0, 17, 10,  8, 11,\n",
              "        9, 18,  0,  0,  0,  0,  0,  0,  0,  0,  0,  0,  0], dtype=int32)"
            ]
          },
          "metadata": {
            "tags": []
          },
          "execution_count": 96
        }
      ]
    },
    {
      "cell_type": "code",
      "metadata": {
        "id": "yYuEcsobHeRH",
        "colab_type": "code",
        "colab": {}
      },
      "source": [
        "from keras.models import Sequential\n",
        "from keras.layers import Dense, Dropout, Activation, Flatten\n",
        "from keras.layers import Conv2D, MaxPooling2D\n",
        "from keras.utils import np_utils\n",
        "from keras.layers.recurrent import LSTM"
      ],
      "execution_count": 0,
      "outputs": []
    },
    {
      "cell_type": "code",
      "metadata": {
        "id": "LNXmXkt5Hg0J",
        "colab_type": "code",
        "outputId": "20e78092-e71d-4fee-e326-feef3878a8b2",
        "colab": {
          "base_uri": "https://localhost:8080/",
          "height": 1000
        }
      },
      "source": [
        "modelrnn = Sequential()\n",
        "modelrnn.add(Embedding(len(dct), 50))\n",
        "modelrnn.add(SimpleRNN(32))\n",
        "modelrnn.add(Dense(15, activation='softmax'))\n",
        "#binary crossentropy\n",
        "modelrnn.compile(optimizer = 'rmsprop',\n",
        "             loss = 'categorical_crossentropy',\n",
        "             metrics=['accuracy'])\n",
        "\n",
        "modelrnn_train = modelrnn.fit(X_train, y_train, epochs = 35, batch_size = 256,\n",
        "                   validation_data=(X_test,y_test))\n",
        "                    "
      ],
      "execution_count": 98,
      "outputs": [
        {
          "output_type": "stream",
          "text": [
            "Train on 54562 samples, validate on 23384 samples\n",
            "Epoch 1/35\n",
            "54562/54562 [==============================] - 5s 85us/step - loss: 2.6168 - acc: 0.2985 - val_loss: 2.5980 - val_acc: 0.2825\n",
            "Epoch 2/35\n",
            "54562/54562 [==============================] - 4s 64us/step - loss: 2.4932 - acc: 0.3511 - val_loss: 2.6085 - val_acc: 0.3006\n",
            "Epoch 3/35\n",
            "54562/54562 [==============================] - 4s 64us/step - loss: 2.4566 - acc: 0.3715 - val_loss: 2.4311 - val_acc: 0.3839\n",
            "Epoch 4/35\n",
            "54562/54562 [==============================] - 4s 64us/step - loss: 2.4283 - acc: 0.3885 - val_loss: 2.4537 - val_acc: 0.3659\n",
            "Epoch 5/35\n",
            "54562/54562 [==============================] - 4s 65us/step - loss: 2.4049 - acc: 0.3989 - val_loss: 2.4418 - val_acc: 0.3845\n",
            "Epoch 6/35\n",
            "54562/54562 [==============================] - 4s 64us/step - loss: 2.3874 - acc: 0.4084 - val_loss: 2.4017 - val_acc: 0.3912\n",
            "Epoch 7/35\n",
            "54562/54562 [==============================] - 3s 64us/step - loss: 2.3708 - acc: 0.4171 - val_loss: 2.4316 - val_acc: 0.3919\n",
            "Epoch 8/35\n",
            "54562/54562 [==============================] - 4s 65us/step - loss: 2.3561 - acc: 0.4230 - val_loss: 2.4049 - val_acc: 0.4150\n",
            "Epoch 9/35\n",
            "54562/54562 [==============================] - 3s 64us/step - loss: 2.3442 - acc: 0.4258 - val_loss: 2.4427 - val_acc: 0.3678\n",
            "Epoch 10/35\n",
            "54562/54562 [==============================] - 3s 64us/step - loss: 2.3322 - acc: 0.4307 - val_loss: 2.4329 - val_acc: 0.3877\n",
            "Epoch 11/35\n",
            "54562/54562 [==============================] - 4s 65us/step - loss: 2.3223 - acc: 0.4348 - val_loss: 2.3453 - val_acc: 0.4226\n",
            "Epoch 12/35\n",
            "54562/54562 [==============================] - 3s 63us/step - loss: 2.3087 - acc: 0.4416 - val_loss: 2.3700 - val_acc: 0.4275\n",
            "Epoch 13/35\n",
            "54562/54562 [==============================] - 4s 64us/step - loss: 2.2965 - acc: 0.4467 - val_loss: 2.3274 - val_acc: 0.4412\n",
            "Epoch 14/35\n",
            "54562/54562 [==============================] - 4s 64us/step - loss: 2.2837 - acc: 0.4495 - val_loss: 2.4140 - val_acc: 0.3818\n",
            "Epoch 15/35\n",
            "54562/54562 [==============================] - 4s 65us/step - loss: 2.2720 - acc: 0.4532 - val_loss: 2.3167 - val_acc: 0.4370\n",
            "Epoch 16/35\n",
            "54562/54562 [==============================] - 4s 65us/step - loss: 2.2614 - acc: 0.4574 - val_loss: 2.3187 - val_acc: 0.4295\n",
            "Epoch 17/35\n",
            "54562/54562 [==============================] - 4s 67us/step - loss: 2.2521 - acc: 0.4627 - val_loss: 2.3316 - val_acc: 0.4256\n",
            "Epoch 18/35\n",
            "54562/54562 [==============================] - 4s 64us/step - loss: 2.2445 - acc: 0.4647 - val_loss: 2.3450 - val_acc: 0.4159\n",
            "Epoch 19/35\n",
            "54562/54562 [==============================] - 3s 64us/step - loss: 2.2360 - acc: 0.4667 - val_loss: 2.2983 - val_acc: 0.4355\n",
            "Epoch 20/35\n",
            "54562/54562 [==============================] - 4s 65us/step - loss: 2.2290 - acc: 0.4703 - val_loss: 2.3377 - val_acc: 0.4048\n",
            "Epoch 21/35\n",
            "54562/54562 [==============================] - 3s 64us/step - loss: 2.2233 - acc: 0.4715 - val_loss: 2.2736 - val_acc: 0.4693\n",
            "Epoch 22/35\n",
            "54562/54562 [==============================] - 4s 65us/step - loss: 2.2161 - acc: 0.4750 - val_loss: 2.2980 - val_acc: 0.4481\n",
            "Epoch 23/35\n",
            "54562/54562 [==============================] - 4s 65us/step - loss: 2.2096 - acc: 0.4769 - val_loss: 2.3083 - val_acc: 0.4361\n",
            "Epoch 24/35\n",
            "54562/54562 [==============================] - 4s 65us/step - loss: 2.2032 - acc: 0.4802 - val_loss: 2.2407 - val_acc: 0.4752\n",
            "Epoch 25/35\n",
            "54562/54562 [==============================] - 4s 66us/step - loss: 2.1972 - acc: 0.4838 - val_loss: 2.2851 - val_acc: 0.4416\n",
            "Epoch 26/35\n",
            "54562/54562 [==============================] - 4s 67us/step - loss: 2.1912 - acc: 0.4854 - val_loss: 2.2623 - val_acc: 0.4674\n",
            "Epoch 27/35\n",
            "54562/54562 [==============================] - 4s 65us/step - loss: 2.1858 - acc: 0.4900 - val_loss: 2.2378 - val_acc: 0.4746\n",
            "Epoch 28/35\n",
            "54562/54562 [==============================] - 3s 63us/step - loss: 2.1792 - acc: 0.4906 - val_loss: 2.2490 - val_acc: 0.4617\n",
            "Epoch 29/35\n",
            "54562/54562 [==============================] - 3s 63us/step - loss: 2.1735 - acc: 0.4941 - val_loss: 2.3450 - val_acc: 0.4305\n",
            "Epoch 30/35\n",
            "54562/54562 [==============================] - 3s 63us/step - loss: 2.1691 - acc: 0.4968 - val_loss: 2.2274 - val_acc: 0.4807\n",
            "Epoch 31/35\n",
            "54562/54562 [==============================] - 3s 63us/step - loss: 2.1631 - acc: 0.4990 - val_loss: 2.2529 - val_acc: 0.4784\n",
            "Epoch 32/35\n",
            "54562/54562 [==============================] - 3s 63us/step - loss: 2.1586 - acc: 0.5017 - val_loss: 2.2333 - val_acc: 0.4759\n",
            "Epoch 33/35\n",
            "54562/54562 [==============================] - 3s 63us/step - loss: 2.1532 - acc: 0.5034 - val_loss: 2.2442 - val_acc: 0.4768\n",
            "Epoch 34/35\n",
            "54562/54562 [==============================] - 3s 63us/step - loss: 2.1482 - acc: 0.5060 - val_loss: 2.2167 - val_acc: 0.4744\n",
            "Epoch 35/35\n",
            "54562/54562 [==============================] - 3s 64us/step - loss: 2.1434 - acc: 0.5082 - val_loss: 2.2855 - val_acc: 0.4677\n"
          ],
          "name": "stdout"
        }
      ]
    },
    {
      "cell_type": "code",
      "metadata": {
        "id": "Rmpu7wQhQ6v8",
        "colab_type": "code",
        "outputId": "d9d8e740-fe7f-4947-bb9b-ba11eecdbc4a",
        "colab": {
          "base_uri": "https://localhost:8080/",
          "height": 1000
        }
      },
      "source": [
        "#sigmoid\n",
        "modelrnn1 = Sequential()\n",
        "modelrnn1.add(Embedding(len(dct), 50))\n",
        "modelrnn1.add(SimpleRNN(32))\n",
        "modelrnn1.add(Dense(15, activation='sigmoid'))\n",
        "#binary crossentropy\n",
        "modelrnn1.compile(optimizer = 'rmsprop',\n",
        "             loss = 'binary_crossentropy',\n",
        "             metrics=['accuracy'])\n",
        "\n",
        "modelrnn1_train = modelrnn1.fit(X_train, y_train, epochs = 35, batch_size = 256,\n",
        "                   validation_data=(X_test,y_test))\n",
        "                    "
      ],
      "execution_count": 99,
      "outputs": [
        {
          "output_type": "stream",
          "text": [
            "Train on 54562 samples, validate on 23384 samples\n",
            "Epoch 1/35\n",
            "54562/54562 [==============================] - 5s 86us/step - loss: 0.2800 - acc: 0.8661 - val_loss: 0.2337 - val_acc: 0.8743\n",
            "Epoch 2/35\n",
            "54562/54562 [==============================] - 4s 65us/step - loss: 0.2330 - acc: 0.8748 - val_loss: 0.2319 - val_acc: 0.8743\n",
            "Epoch 3/35\n",
            "54562/54562 [==============================] - 4s 66us/step - loss: 0.2302 - acc: 0.8748 - val_loss: 0.2304 - val_acc: 0.8743\n",
            "Epoch 4/35\n",
            "54562/54562 [==============================] - 4s 64us/step - loss: 0.2275 - acc: 0.8748 - val_loss: 0.2265 - val_acc: 0.8743\n",
            "Epoch 5/35\n",
            "54562/54562 [==============================] - 3s 64us/step - loss: 0.2262 - acc: 0.8749 - val_loss: 0.2265 - val_acc: 0.8744\n",
            "Epoch 6/35\n",
            "54562/54562 [==============================] - 4s 64us/step - loss: 0.2236 - acc: 0.8757 - val_loss: 0.2269 - val_acc: 0.8755\n",
            "Epoch 7/35\n",
            "54562/54562 [==============================] - 3s 64us/step - loss: 0.2199 - acc: 0.8778 - val_loss: 0.2239 - val_acc: 0.8766\n",
            "Epoch 8/35\n",
            "54562/54562 [==============================] - 4s 64us/step - loss: 0.2168 - acc: 0.8797 - val_loss: 0.2159 - val_acc: 0.8800\n",
            "Epoch 9/35\n",
            "54562/54562 [==============================] - 4s 64us/step - loss: 0.2143 - acc: 0.8806 - val_loss: 0.2181 - val_acc: 0.8789\n",
            "Epoch 10/35\n",
            "54562/54562 [==============================] - 4s 65us/step - loss: 0.2126 - acc: 0.8810 - val_loss: 0.2155 - val_acc: 0.8799\n",
            "Epoch 11/35\n",
            "54562/54562 [==============================] - 3s 64us/step - loss: 0.2112 - acc: 0.8811 - val_loss: 0.2118 - val_acc: 0.8806\n",
            "Epoch 12/35\n",
            "54562/54562 [==============================] - 3s 64us/step - loss: 0.2100 - acc: 0.8813 - val_loss: 0.2151 - val_acc: 0.8803\n",
            "Epoch 13/35\n",
            "54562/54562 [==============================] - 3s 64us/step - loss: 0.2089 - acc: 0.8813 - val_loss: 0.2096 - val_acc: 0.8806\n",
            "Epoch 14/35\n",
            "54562/54562 [==============================] - 4s 64us/step - loss: 0.2079 - acc: 0.8814 - val_loss: 0.2076 - val_acc: 0.8808\n",
            "Epoch 15/35\n",
            "54562/54562 [==============================] - 4s 65us/step - loss: 0.2070 - acc: 0.8815 - val_loss: 0.2111 - val_acc: 0.8807\n",
            "Epoch 16/35\n",
            "54562/54562 [==============================] - 4s 64us/step - loss: 0.2064 - acc: 0.8815 - val_loss: 0.2066 - val_acc: 0.8807\n",
            "Epoch 17/35\n",
            "54562/54562 [==============================] - 4s 65us/step - loss: 0.2053 - acc: 0.8817 - val_loss: 0.2063 - val_acc: 0.8809\n",
            "Epoch 18/35\n",
            "54562/54562 [==============================] - 4s 66us/step - loss: 0.2048 - acc: 0.8817 - val_loss: 0.2067 - val_acc: 0.8805\n",
            "Epoch 19/35\n",
            "54562/54562 [==============================] - 3s 64us/step - loss: 0.2039 - acc: 0.8817 - val_loss: 0.2050 - val_acc: 0.8810\n",
            "Epoch 20/35\n",
            "54562/54562 [==============================] - 3s 64us/step - loss: 0.2030 - acc: 0.8819 - val_loss: 0.2042 - val_acc: 0.8809\n",
            "Epoch 21/35\n",
            "54562/54562 [==============================] - 4s 64us/step - loss: 0.2021 - acc: 0.8823 - val_loss: 0.2022 - val_acc: 0.8818\n",
            "Epoch 22/35\n",
            "54562/54562 [==============================] - 3s 64us/step - loss: 0.2012 - acc: 0.8825 - val_loss: 0.2063 - val_acc: 0.8806\n",
            "Epoch 23/35\n",
            "54562/54562 [==============================] - 4s 64us/step - loss: 0.2004 - acc: 0.8828 - val_loss: 0.2017 - val_acc: 0.8819\n",
            "Epoch 24/35\n",
            "54562/54562 [==============================] - 4s 65us/step - loss: 0.1997 - acc: 0.8832 - val_loss: 0.2019 - val_acc: 0.8824\n",
            "Epoch 25/35\n",
            "54562/54562 [==============================] - 3s 64us/step - loss: 0.1995 - acc: 0.8833 - val_loss: 0.2058 - val_acc: 0.8810\n",
            "Epoch 26/35\n",
            "54562/54562 [==============================] - 3s 64us/step - loss: 0.1989 - acc: 0.8834 - val_loss: 0.1992 - val_acc: 0.8826\n",
            "Epoch 27/35\n",
            "54562/54562 [==============================] - 4s 65us/step - loss: 0.1987 - acc: 0.8835 - val_loss: 0.2070 - val_acc: 0.8795\n",
            "Epoch 28/35\n",
            "54562/54562 [==============================] - 3s 64us/step - loss: 0.1980 - acc: 0.8835 - val_loss: 0.2026 - val_acc: 0.8809\n",
            "Epoch 29/35\n",
            "54562/54562 [==============================] - 3s 64us/step - loss: 0.1975 - acc: 0.8837 - val_loss: 0.2055 - val_acc: 0.8818\n",
            "Epoch 30/35\n",
            "54562/54562 [==============================] - 3s 64us/step - loss: 0.1974 - acc: 0.8839 - val_loss: 0.2041 - val_acc: 0.8812\n",
            "Epoch 31/35\n",
            "54562/54562 [==============================] - 3s 64us/step - loss: 0.1965 - acc: 0.8842 - val_loss: 0.1984 - val_acc: 0.8829\n",
            "Epoch 32/35\n",
            "54562/54562 [==============================] - 4s 65us/step - loss: 0.1959 - acc: 0.8846 - val_loss: 0.2002 - val_acc: 0.8830\n",
            "Epoch 33/35\n",
            "54562/54562 [==============================] - 4s 64us/step - loss: 0.1952 - acc: 0.8848 - val_loss: 0.2124 - val_acc: 0.8793\n",
            "Epoch 34/35\n",
            "54562/54562 [==============================] - 4s 65us/step - loss: 0.1946 - acc: 0.8851 - val_loss: 0.1967 - val_acc: 0.8842\n",
            "Epoch 35/35\n",
            "54562/54562 [==============================] - 4s 65us/step - loss: 0.1938 - acc: 0.8856 - val_loss: 0.1941 - val_acc: 0.8850\n"
          ],
          "name": "stdout"
        }
      ]
    },
    {
      "cell_type": "code",
      "metadata": {
        "id": "RZ12bYHJQUOy",
        "colab_type": "code",
        "colab": {}
      },
      "source": [
        "#3.2"
      ],
      "execution_count": 0,
      "outputs": []
    },
    {
      "cell_type": "code",
      "metadata": {
        "id": "tgfR4pZv_LCD",
        "colab_type": "code",
        "colab": {}
      },
      "source": [
        "from keras.layers import Dense, Flatten, LSTM, Conv1D, MaxPooling1D, Dropout, Activation, GlobalMaxPooling1D"
      ],
      "execution_count": 0,
      "outputs": []
    },
    {
      "cell_type": "code",
      "metadata": {
        "id": "h6xLCw2pW_Uf",
        "colab_type": "code",
        "colab": {
          "base_uri": "https://localhost:8080/",
          "height": 289
        },
        "outputId": "e2bc64f4-a1f2-446f-b980-02d865b481e0"
      },
      "source": [
        "#sigmoid\n",
        "cnn_model = Sequential()\n",
        "cnn_model.add(Embedding(len(dct),50))\n",
        "cnn_model.add(Conv1D(64, 5, activation='relu'))\n",
        "cnn_model.add(GlobalMaxPooling1D())\n",
        "cnn_model.add(Dense(15, activation='sigmoid'))\n",
        "cnn_model.compile(optimizer=\"rmsprop\", loss=\"binary_crossentropy\", metrics=[\"acc\"])\n",
        "cnn_model.summary()"
      ],
      "execution_count": 24,
      "outputs": [
        {
          "output_type": "stream",
          "text": [
            "Model: \"sequential_8\"\n",
            "_________________________________________________________________\n",
            "Layer (type)                 Output Shape              Param #   \n",
            "=================================================================\n",
            "embedding_5 (Embedding)      (None, None, 50)          4700      \n",
            "_________________________________________________________________\n",
            "conv1d_4 (Conv1D)            (None, None, 64)          16064     \n",
            "_________________________________________________________________\n",
            "global_max_pooling1d_2 (Glob (None, 64)                0         \n",
            "_________________________________________________________________\n",
            "dense_2 (Dense)              (None, 15)                975       \n",
            "=================================================================\n",
            "Total params: 21,739\n",
            "Trainable params: 21,739\n",
            "Non-trainable params: 0\n",
            "_________________________________________________________________\n"
          ],
          "name": "stdout"
        }
      ]
    },
    {
      "cell_type": "code",
      "metadata": {
        "id": "_FxOrQVc-TQ0",
        "colab_type": "code",
        "colab": {
          "base_uri": "https://localhost:8080/",
          "height": 1000
        },
        "outputId": "414acb91-be98-4add-d2fe-e1ab73725045"
      },
      "source": [
        "cnn_model_training = cnn_model.fit(X_train, y_train, epochs = 35, batch_size = 256,\n",
        "                   validation_data=(X_test,y_test))"
      ],
      "execution_count": 25,
      "outputs": [
        {
          "output_type": "stream",
          "text": [
            "WARNING:tensorflow:From /usr/local/lib/python3.6/dist-packages/keras/backend/tensorflow_backend.py:1033: The name tf.assign_add is deprecated. Please use tf.compat.v1.assign_add instead.\n",
            "\n",
            "WARNING:tensorflow:From /usr/local/lib/python3.6/dist-packages/keras/backend/tensorflow_backend.py:1020: The name tf.assign is deprecated. Please use tf.compat.v1.assign instead.\n",
            "\n",
            "WARNING:tensorflow:From /usr/local/lib/python3.6/dist-packages/keras/backend/tensorflow_backend.py:3005: The name tf.Session is deprecated. Please use tf.compat.v1.Session instead.\n",
            "\n",
            "Train on 54562 samples, validate on 23384 samples\n",
            "Epoch 1/35\n",
            "WARNING:tensorflow:From /usr/local/lib/python3.6/dist-packages/keras/backend/tensorflow_backend.py:190: The name tf.get_default_session is deprecated. Please use tf.compat.v1.get_default_session instead.\n",
            "\n",
            "WARNING:tensorflow:From /usr/local/lib/python3.6/dist-packages/keras/backend/tensorflow_backend.py:197: The name tf.ConfigProto is deprecated. Please use tf.compat.v1.ConfigProto instead.\n",
            "\n",
            "WARNING:tensorflow:From /usr/local/lib/python3.6/dist-packages/keras/backend/tensorflow_backend.py:207: The name tf.global_variables is deprecated. Please use tf.compat.v1.global_variables instead.\n",
            "\n",
            "WARNING:tensorflow:From /usr/local/lib/python3.6/dist-packages/keras/backend/tensorflow_backend.py:216: The name tf.is_variable_initialized is deprecated. Please use tf.compat.v1.is_variable_initialized instead.\n",
            "\n",
            "WARNING:tensorflow:From /usr/local/lib/python3.6/dist-packages/keras/backend/tensorflow_backend.py:223: The name tf.variables_initializer is deprecated. Please use tf.compat.v1.variables_initializer instead.\n",
            "\n",
            "54562/54562 [==============================] - 9s 173us/step - loss: 0.2650 - acc: 0.8733 - val_loss: 0.2046 - val_acc: 0.8808\n",
            "Epoch 2/35\n",
            "54562/54562 [==============================] - 1s 23us/step - loss: 0.1934 - acc: 0.8869 - val_loss: 0.1875 - val_acc: 0.8882\n",
            "Epoch 3/35\n",
            "54562/54562 [==============================] - 1s 22us/step - loss: 0.1836 - acc: 0.8901 - val_loss: 0.1825 - val_acc: 0.8893\n",
            "Epoch 4/35\n",
            "54562/54562 [==============================] - 1s 23us/step - loss: 0.1794 - acc: 0.8911 - val_loss: 0.1801 - val_acc: 0.8897\n",
            "Epoch 5/35\n",
            "54562/54562 [==============================] - 1s 23us/step - loss: 0.1768 - acc: 0.8917 - val_loss: 0.1784 - val_acc: 0.8907\n",
            "Epoch 6/35\n",
            "54562/54562 [==============================] - 1s 22us/step - loss: 0.1750 - acc: 0.8920 - val_loss: 0.1773 - val_acc: 0.8902\n",
            "Epoch 7/35\n",
            "54562/54562 [==============================] - 1s 23us/step - loss: 0.1736 - acc: 0.8922 - val_loss: 0.1757 - val_acc: 0.8911\n",
            "Epoch 8/35\n",
            "54562/54562 [==============================] - 1s 22us/step - loss: 0.1726 - acc: 0.8924 - val_loss: 0.1763 - val_acc: 0.8909\n",
            "Epoch 9/35\n",
            "54562/54562 [==============================] - 1s 24us/step - loss: 0.1718 - acc: 0.8925 - val_loss: 0.1752 - val_acc: 0.8912\n",
            "Epoch 10/35\n",
            "54562/54562 [==============================] - 1s 23us/step - loss: 0.1710 - acc: 0.8927 - val_loss: 0.1752 - val_acc: 0.8913\n",
            "Epoch 11/35\n",
            "54562/54562 [==============================] - 1s 23us/step - loss: 0.1704 - acc: 0.8927 - val_loss: 0.1746 - val_acc: 0.8912\n",
            "Epoch 12/35\n",
            "54562/54562 [==============================] - 1s 23us/step - loss: 0.1698 - acc: 0.8928 - val_loss: 0.1753 - val_acc: 0.8912\n",
            "Epoch 13/35\n",
            "54562/54562 [==============================] - 1s 24us/step - loss: 0.1693 - acc: 0.8929 - val_loss: 0.1762 - val_acc: 0.8891\n",
            "Epoch 14/35\n",
            "54562/54562 [==============================] - 1s 24us/step - loss: 0.1688 - acc: 0.8929 - val_loss: 0.1747 - val_acc: 0.8914\n",
            "Epoch 15/35\n",
            "54562/54562 [==============================] - 1s 23us/step - loss: 0.1684 - acc: 0.8930 - val_loss: 0.1743 - val_acc: 0.8908\n",
            "Epoch 16/35\n",
            "54562/54562 [==============================] - 1s 23us/step - loss: 0.1679 - acc: 0.8931 - val_loss: 0.1748 - val_acc: 0.8911\n",
            "Epoch 17/35\n",
            "54562/54562 [==============================] - 1s 22us/step - loss: 0.1676 - acc: 0.8931 - val_loss: 0.1753 - val_acc: 0.8911\n",
            "Epoch 18/35\n",
            "54562/54562 [==============================] - 1s 23us/step - loss: 0.1672 - acc: 0.8931 - val_loss: 0.1745 - val_acc: 0.8915\n",
            "Epoch 19/35\n",
            "54562/54562 [==============================] - 1s 23us/step - loss: 0.1668 - acc: 0.8932 - val_loss: 0.1739 - val_acc: 0.8916\n",
            "Epoch 20/35\n",
            "54562/54562 [==============================] - 1s 23us/step - loss: 0.1664 - acc: 0.8932 - val_loss: 0.1729 - val_acc: 0.8912\n",
            "Epoch 21/35\n",
            "54562/54562 [==============================] - 1s 24us/step - loss: 0.1661 - acc: 0.8933 - val_loss: 0.1748 - val_acc: 0.8903\n",
            "Epoch 22/35\n",
            "54562/54562 [==============================] - 1s 23us/step - loss: 0.1657 - acc: 0.8934 - val_loss: 0.1740 - val_acc: 0.8906\n",
            "Epoch 23/35\n",
            "54562/54562 [==============================] - 1s 23us/step - loss: 0.1654 - acc: 0.8934 - val_loss: 0.1745 - val_acc: 0.8903\n",
            "Epoch 24/35\n",
            "54562/54562 [==============================] - 1s 23us/step - loss: 0.1651 - acc: 0.8935 - val_loss: 0.1728 - val_acc: 0.8916\n",
            "Epoch 25/35\n",
            "54562/54562 [==============================] - 1s 23us/step - loss: 0.1648 - acc: 0.8935 - val_loss: 0.1731 - val_acc: 0.8911\n",
            "Epoch 26/35\n",
            "54562/54562 [==============================] - 1s 23us/step - loss: 0.1646 - acc: 0.8935 - val_loss: 0.1743 - val_acc: 0.8915\n",
            "Epoch 27/35\n",
            "54562/54562 [==============================] - 1s 24us/step - loss: 0.1643 - acc: 0.8935 - val_loss: 0.1743 - val_acc: 0.8917\n",
            "Epoch 28/35\n",
            "54562/54562 [==============================] - 1s 24us/step - loss: 0.1641 - acc: 0.8936 - val_loss: 0.1741 - val_acc: 0.8916\n",
            "Epoch 29/35\n",
            "54562/54562 [==============================] - 1s 23us/step - loss: 0.1639 - acc: 0.8936 - val_loss: 0.1739 - val_acc: 0.8917\n",
            "Epoch 30/35\n",
            "54562/54562 [==============================] - 1s 24us/step - loss: 0.1636 - acc: 0.8937 - val_loss: 0.1727 - val_acc: 0.8914\n",
            "Epoch 31/35\n",
            "54562/54562 [==============================] - 1s 23us/step - loss: 0.1634 - acc: 0.8936 - val_loss: 0.1740 - val_acc: 0.8908\n",
            "Epoch 32/35\n",
            "54562/54562 [==============================] - 1s 23us/step - loss: 0.1632 - acc: 0.8937 - val_loss: 0.1730 - val_acc: 0.8917\n",
            "Epoch 33/35\n",
            "54562/54562 [==============================] - 1s 24us/step - loss: 0.1630 - acc: 0.8938 - val_loss: 0.1743 - val_acc: 0.8903\n",
            "Epoch 34/35\n",
            "54562/54562 [==============================] - 1s 23us/step - loss: 0.1628 - acc: 0.8937 - val_loss: 0.1730 - val_acc: 0.8914\n",
            "Epoch 35/35\n",
            "54562/54562 [==============================] - 1s 23us/step - loss: 0.1626 - acc: 0.8938 - val_loss: 0.1734 - val_acc: 0.8908\n"
          ],
          "name": "stdout"
        }
      ]
    },
    {
      "cell_type": "code",
      "metadata": {
        "id": "5W5o1W_t-TLC",
        "colab_type": "code",
        "colab": {}
      },
      "source": [
        "#categorical crossentropy"
      ],
      "execution_count": 0,
      "outputs": []
    },
    {
      "cell_type": "code",
      "metadata": {
        "id": "O55sJ6uw-TIK",
        "colab_type": "code",
        "colab": {
          "base_uri": "https://localhost:8080/",
          "height": 289
        },
        "outputId": "d91326d8-3d9d-4d48-bd32-58a2cfdcbe8b"
      },
      "source": [
        "cnn1_model = Sequential()\n",
        "cnn1_model.add(Embedding(len(dct),50))\n",
        "cnn1_model.add(Conv1D(64, 5, activation='relu'))\n",
        "cnn1_model.add(GlobalMaxPooling1D())\n",
        "cnn1_model.add(Dense(15, activation='softmax'))\n",
        "cnn1_model.compile(optimizer=\"rmsprop\", loss=\"categorical_crossentropy\", metrics=[\"acc\"])\n",
        "cnn1_model.summary()"
      ],
      "execution_count": 29,
      "outputs": [
        {
          "output_type": "stream",
          "text": [
            "Model: \"sequential_9\"\n",
            "_________________________________________________________________\n",
            "Layer (type)                 Output Shape              Param #   \n",
            "=================================================================\n",
            "embedding_6 (Embedding)      (None, None, 50)          4700      \n",
            "_________________________________________________________________\n",
            "conv1d_5 (Conv1D)            (None, None, 64)          16064     \n",
            "_________________________________________________________________\n",
            "global_max_pooling1d_3 (Glob (None, 64)                0         \n",
            "_________________________________________________________________\n",
            "dense_3 (Dense)              (None, 15)                975       \n",
            "=================================================================\n",
            "Total params: 21,739\n",
            "Trainable params: 21,739\n",
            "Non-trainable params: 0\n",
            "_________________________________________________________________\n"
          ],
          "name": "stdout"
        }
      ]
    },
    {
      "cell_type": "code",
      "metadata": {
        "id": "BsQccXOF-TE-",
        "colab_type": "code",
        "colab": {
          "base_uri": "https://localhost:8080/",
          "height": 1000
        },
        "outputId": "d2196ff0-caa3-4e1e-b847-51809e77848e"
      },
      "source": [
        "cnn1_model_training = cnn1_model.fit(X_train, y_train, epochs = 35, batch_size = 256,\n",
        "                   validation_data=(X_test,y_test))"
      ],
      "execution_count": 30,
      "outputs": [
        {
          "output_type": "stream",
          "text": [
            "Train on 54562 samples, validate on 23384 samples\n",
            "Epoch 1/35\n",
            "54562/54562 [==============================] - 1s 27us/step - loss: 2.3946 - acc: 0.4357 - val_loss: 2.1552 - val_acc: 0.5080\n",
            "Epoch 2/35\n",
            "54562/54562 [==============================] - 1s 23us/step - loss: 2.0848 - acc: 0.5366 - val_loss: 2.0530 - val_acc: 0.5423\n",
            "Epoch 3/35\n",
            "54562/54562 [==============================] - 1s 23us/step - loss: 2.0145 - acc: 0.5567 - val_loss: 2.0149 - val_acc: 0.5464\n",
            "Epoch 4/35\n",
            "54562/54562 [==============================] - 1s 24us/step - loss: 1.9810 - acc: 0.5633 - val_loss: 1.9937 - val_acc: 0.5532\n",
            "Epoch 5/35\n",
            "54562/54562 [==============================] - 1s 23us/step - loss: 1.9592 - acc: 0.5685 - val_loss: 1.9835 - val_acc: 0.5571\n",
            "Epoch 6/35\n",
            "54562/54562 [==============================] - 1s 24us/step - loss: 1.9432 - acc: 0.5728 - val_loss: 1.9677 - val_acc: 0.5639\n",
            "Epoch 7/35\n",
            "54562/54562 [==============================] - 1s 23us/step - loss: 1.9302 - acc: 0.5763 - val_loss: 1.9650 - val_acc: 0.5664\n",
            "Epoch 8/35\n",
            "54562/54562 [==============================] - 1s 24us/step - loss: 1.9190 - acc: 0.5792 - val_loss: 1.9579 - val_acc: 0.5676\n",
            "Epoch 9/35\n",
            "54562/54562 [==============================] - 1s 23us/step - loss: 1.9098 - acc: 0.5813 - val_loss: 1.9499 - val_acc: 0.5679\n",
            "Epoch 10/35\n",
            "54562/54562 [==============================] - 1s 23us/step - loss: 1.9019 - acc: 0.5830 - val_loss: 1.9511 - val_acc: 0.5647\n",
            "Epoch 11/35\n",
            "54562/54562 [==============================] - 1s 23us/step - loss: 1.8941 - acc: 0.5853 - val_loss: 1.9463 - val_acc: 0.5748\n",
            "Epoch 12/35\n",
            "54562/54562 [==============================] - 1s 23us/step - loss: 1.8873 - acc: 0.5871 - val_loss: 1.9456 - val_acc: 0.5645\n",
            "Epoch 13/35\n",
            "54562/54562 [==============================] - 1s 24us/step - loss: 1.8809 - acc: 0.5885 - val_loss: 1.9569 - val_acc: 0.5538\n",
            "Epoch 14/35\n",
            "54562/54562 [==============================] - 1s 23us/step - loss: 1.8749 - acc: 0.5897 - val_loss: 1.9447 - val_acc: 0.5647\n",
            "Epoch 15/35\n",
            "54562/54562 [==============================] - 1s 23us/step - loss: 1.8698 - acc: 0.5911 - val_loss: 1.9432 - val_acc: 0.5654\n",
            "Epoch 16/35\n",
            "54562/54562 [==============================] - 1s 23us/step - loss: 1.8643 - acc: 0.5927 - val_loss: 1.9389 - val_acc: 0.5638\n",
            "Epoch 17/35\n",
            "54562/54562 [==============================] - 1s 23us/step - loss: 1.8592 - acc: 0.5933 - val_loss: 1.9379 - val_acc: 0.5686\n",
            "Epoch 18/35\n",
            "54562/54562 [==============================] - 1s 23us/step - loss: 1.8550 - acc: 0.5941 - val_loss: 1.9417 - val_acc: 0.5625\n",
            "Epoch 19/35\n",
            "54562/54562 [==============================] - 1s 23us/step - loss: 1.8510 - acc: 0.5944 - val_loss: 1.9539 - val_acc: 0.5669\n",
            "Epoch 20/35\n",
            "54562/54562 [==============================] - 1s 23us/step - loss: 1.8466 - acc: 0.5958 - val_loss: 1.9496 - val_acc: 0.5736\n",
            "Epoch 21/35\n",
            "54562/54562 [==============================] - 1s 23us/step - loss: 1.8428 - acc: 0.5967 - val_loss: 1.9439 - val_acc: 0.5731\n",
            "Epoch 22/35\n",
            "54562/54562 [==============================] - 1s 22us/step - loss: 1.8387 - acc: 0.5989 - val_loss: 1.9390 - val_acc: 0.5671\n",
            "Epoch 23/35\n",
            "54562/54562 [==============================] - 1s 23us/step - loss: 1.8356 - acc: 0.5979 - val_loss: 1.9488 - val_acc: 0.5663\n",
            "Epoch 24/35\n",
            "54562/54562 [==============================] - 1s 23us/step - loss: 1.8321 - acc: 0.5998 - val_loss: 1.9550 - val_acc: 0.5714\n",
            "Epoch 25/35\n",
            "54562/54562 [==============================] - 1s 23us/step - loss: 1.8290 - acc: 0.6012 - val_loss: 1.9424 - val_acc: 0.5656\n",
            "Epoch 26/35\n",
            "54562/54562 [==============================] - 1s 24us/step - loss: 1.8259 - acc: 0.6017 - val_loss: 1.9398 - val_acc: 0.5693\n",
            "Epoch 27/35\n",
            "54562/54562 [==============================] - 1s 23us/step - loss: 1.8222 - acc: 0.6026 - val_loss: 1.9461 - val_acc: 0.5721\n",
            "Epoch 28/35\n",
            "54562/54562 [==============================] - 1s 23us/step - loss: 1.8202 - acc: 0.6036 - val_loss: 1.9692 - val_acc: 0.5712\n",
            "Epoch 29/35\n",
            "54562/54562 [==============================] - 1s 23us/step - loss: 1.8172 - acc: 0.6036 - val_loss: 1.9678 - val_acc: 0.5404\n",
            "Epoch 30/35\n",
            "54562/54562 [==============================] - 1s 23us/step - loss: 1.8148 - acc: 0.6037 - val_loss: 1.9477 - val_acc: 0.5653\n",
            "Epoch 31/35\n",
            "54562/54562 [==============================] - 1s 23us/step - loss: 1.8113 - acc: 0.6044 - val_loss: 1.9705 - val_acc: 0.5436\n",
            "Epoch 32/35\n",
            "54562/54562 [==============================] - 1s 23us/step - loss: 1.8094 - acc: 0.6055 - val_loss: 1.9590 - val_acc: 0.5505\n",
            "Epoch 33/35\n",
            "54562/54562 [==============================] - 1s 23us/step - loss: 1.8073 - acc: 0.6061 - val_loss: 1.9458 - val_acc: 0.5644\n",
            "Epoch 34/35\n",
            "54562/54562 [==============================] - 1s 23us/step - loss: 1.8045 - acc: 0.6069 - val_loss: 1.9404 - val_acc: 0.5670\n",
            "Epoch 35/35\n",
            "54562/54562 [==============================] - 1s 23us/step - loss: 1.8025 - acc: 0.6084 - val_loss: 1.9502 - val_acc: 0.5666\n"
          ],
          "name": "stdout"
        }
      ]
    },
    {
      "cell_type": "code",
      "metadata": {
        "id": "inb3tl-F-S_N",
        "colab_type": "code",
        "colab": {}
      },
      "source": [
        "#3.3"
      ],
      "execution_count": 0,
      "outputs": []
    },
    {
      "cell_type": "code",
      "metadata": {
        "id": "oiBeg_R5-S8s",
        "colab_type": "code",
        "colab": {}
      },
      "source": [
        "from sklearn.metrics import roc_curve\n",
        "from sklearn.metrics import auc\n"
      ],
      "execution_count": 0,
      "outputs": []
    },
    {
      "cell_type": "code",
      "metadata": {
        "id": "Im2e-6bz-S5E",
        "colab_type": "code",
        "colab": {
          "base_uri": "https://localhost:8080/",
          "height": 404
        },
        "outputId": "7c1cf63d-53f7-4865-b472-474a7929a29b"
      },
      "source": [
        "plt.figure(figsize=(16,6))\n",
        "plt.subplot(1, 2, 1)\n",
        "plt.plot(cnn_model_training.history['acc'])\n",
        "plt.plot(cnn_model_training.history['val_acc'])\n",
        "plt.title('CNN Model Accuracy')\n",
        "plt.ylabel('Accuracy')\n",
        "plt.xlabel('Epochs')\n",
        "plt.legend(['train', 'validation'])\n",
        "\n",
        "plt.subplot(1, 2, 2)\n",
        "plt.plot(modelrnn1_train.history['acc'])\n",
        "plt.plot(modelrnn1_train.history['val_acc'])\n",
        "plt.title('RNN Model Accuracy')\n",
        "plt.ylabel('Accuracy')\n",
        "plt.xlabel('Epochs')\n",
        "plt.legend(['train', 'validation'])\n",
        "plt.show()"
      ],
      "execution_count": 40,
      "outputs": [
        {
          "output_type": "display_data",
          "data": {
            "image/png": "[encoded data removed]",
            "text/plain": [
              "<Figure size 1152x432 with 2 Axes>"
            ]
          },
          "metadata": {
            "tags": []
          }
        }
      ]
    }
  ]
}